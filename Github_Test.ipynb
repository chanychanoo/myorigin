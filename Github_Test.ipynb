{
  "nbformat": 4,
  "nbformat_minor": 0,
  "metadata": {
    "colab": {
      "name": "Github Test.ipynb",
      "provenance": [],
      "authorship_tag": "ABX9TyP3CrnappjAfFCzwd/S9F0l",
      "include_colab_link": true
    },
    "kernelspec": {
      "name": "python3",
      "display_name": "Python 3"
    }
  },
  "cells": [
    {
      "cell_type": "markdown",
      "metadata": {
        "id": "view-in-github",
        "colab_type": "text"
      },
      "source": [
        "<a href=\"https://colab.research.google.com/github/chanychanoo/myorigin/blob/main/Github_Test.ipynb\" target=\"_parent\"><img src=\"https://colab.research.google.com/assets/colab-badge.svg\" alt=\"Open In Colab\"/></a>"
      ]
    },
    {
      "cell_type": "code",
      "metadata": {
        "colab": {
          "base_uri": "https://localhost:8080/"
        },
        "id": "4PlguvmO31cp",
        "outputId": "b134e6f7-58bc-4de0-c472-3726c841c4df"
      },
      "source": [
        "print('second version')"
      ],
      "execution_count": 2,
      "outputs": [
        {
          "output_type": "stream",
          "text": [
            "second version\n"
          ],
          "name": "stdout"
        }
      ]
    }
  ]
}